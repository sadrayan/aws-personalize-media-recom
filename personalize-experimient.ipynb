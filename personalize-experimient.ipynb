{
 "cells": [
  {
   "cell_type": "code",
   "execution_count": 1,
   "metadata": {},
   "outputs": [],
   "source": [
    "import logging\n",
    "import boto3\n",
    "import pandas as pd\n",
    "import json\n",
    "from botocore.exceptions import ClientError\n",
    "\n",
    "from nltk.corpus import stopwords\n",
    "from sklearn import preprocessing\n",
    "import re\n",
    "import matplotlib.pyplot as plt\n",
    "\n",
    "personalize = boto3.client('personalize')\n",
    "\n",
    "roleArn   = 'arn:aws:iam::{aws-account}:role/service-role/AmazonPersonalize-ExecutionRole'\n",
    "s3_bucket = '{bucket_name}'"
   ]
  },
  {
   "cell_type": "code",
   "execution_count": 2,
   "metadata": {},
   "outputs": [],
   "source": [
    "\n",
    "\n",
    "def create_schema(name, schemaFile):\n",
    "    try:\n",
    "        with open(schemaFile) as f:\n",
    "            createSchemaResponse = personalize.create_schema(\n",
    "                name = name,\n",
    "                schema = f.read()\n",
    "            )\n",
    "\n",
    "        createSchemaResponse['schemaArn']\n",
    "    except Exception as e:\n",
    "        print(e)\n",
    "        \n",
    "    schema_arn = personalize.list_schemas()\n",
    "    schema_arn = list(map(lambda x : {x['name'] : x['schemaArn']}, schema_arn['schemas']))\n",
    "    return {k: v for d in schema_arn for k, v in d.items()}\n",
    "\n",
    "def upload_file(file_name, file_dest):\n",
    "    \"\"\"Upload a file to an S3 bucket\n",
    "\n",
    "    :param file_name: File to upload\n",
    "    :param file_dest: Bucket to upload to\n",
    "    :return: True if file was uploaded, else False\n",
    "    \"\"\"\n",
    "    s3 = boto3.resource('s3')\n",
    "\n",
    "#     s3.Bucket(BUCKET).upload_file('exports/USERS.csv', \"personalize/USERS.csv\")\n",
    "\n",
    "    try:\n",
    "        response = s3.Bucket(s3_bucket).upload_file(file_name, file_dest)\n",
    "    except ClientError as e:\n",
    "        logging.error(e)\n",
    "        return False\n",
    "    return True\n",
    "\n",
    "def crate_dataset(name, schemaArn, datasetGroupArn, datasetType):\n",
    "    try:\n",
    "        response = personalize.create_dataset(\n",
    "            name = name,\n",
    "            schemaArn = schemaArn,\n",
    "            datasetGroupArn = datasetGroupArn,\n",
    "            datasetType = datasetType)\n",
    "    except Exception as e:\n",
    "        print(e)\n",
    "        \n",
    "    dataset_arn = personalize.list_datasets()\n",
    "#     print(dataset_arn)\n",
    "    dataset_arn = list(map(lambda x : {x['name'] : x['datasetArn']}, dataset_arn['datasets']))\n",
    "    return {k: v for d in dataset_arn for k, v in d.items()}\n",
    "\n",
    "\n",
    "def clean(x):\n",
    "    x = x.lower()\n",
    "    x = re.sub('[^\\x00-\\x7F]+', ' ', x)\n",
    "    x = re.sub('[^\\w\\s]', ' ', x)    \n",
    "    x = re.sub('^\\s*$', 'none', x)\n",
    "    stop = stopwords.words('english')\n",
    "    x = [word for word in x.split() if x not in stop]\n",
    "    return \"|\".join(x)"
   ]
  },
  {
   "cell_type": "code",
   "execution_count": 3,
   "metadata": {},
   "outputs": [],
   "source": [
    "# Delete\n",
    "# personalize.delete_schema(schemaArn= 'arn:aws:personalize:us-east-1:{aws_account}:schema/UserSchema')\n"
   ]
  },
  {
   "cell_type": "markdown",
   "metadata": {},
   "source": [
    "# USERS"
   ]
  },
  {
   "cell_type": "code",
   "execution_count": 4,
   "metadata": {},
   "outputs": [
    {
     "name": "stdout",
     "output_type": "stream",
     "text": [
      "number of users in dataset:  1048576\n"
     ]
    },
    {
     "data": {
      "text/html": [
       "<div>\n",
       "<style scoped>\n",
       "    .dataframe tbody tr th:only-of-type {\n",
       "        vertical-align: middle;\n",
       "    }\n",
       "\n",
       "    .dataframe tbody tr th {\n",
       "        vertical-align: top;\n",
       "    }\n",
       "\n",
       "    .dataframe thead th {\n",
       "        text-align: right;\n",
       "    }\n",
       "</style>\n",
       "<table border=\"1\" class=\"dataframe\">\n",
       "  <thead>\n",
       "    <tr style=\"text-align: right;\">\n",
       "      <th></th>\n",
       "      <th>USER_ID</th>\n",
       "      <th>USER_SCORE</th>\n",
       "      <th>GEO_GROUP</th>\n",
       "      <th>LANGUAGE</th>\n",
       "    </tr>\n",
       "  </thead>\n",
       "  <tbody>\n",
       "    <tr>\n",
       "      <th>187553</th>\n",
       "      <td>12090644</td>\n",
       "      <td>4</td>\n",
       "      <td>20</td>\n",
       "      <td>ms</td>\n",
       "    </tr>\n",
       "    <tr>\n",
       "      <th>94675</th>\n",
       "      <td>6435143</td>\n",
       "      <td>4</td>\n",
       "      <td>3</td>\n",
       "      <td>es</td>\n",
       "    </tr>\n",
       "    <tr>\n",
       "      <th>889940</th>\n",
       "      <td>25324885</td>\n",
       "      <td>4</td>\n",
       "      <td>89</td>\n",
       "      <td>es</td>\n",
       "    </tr>\n",
       "    <tr>\n",
       "      <th>311945</th>\n",
       "      <td>18726113</td>\n",
       "      <td>4</td>\n",
       "      <td>14</td>\n",
       "      <td>en</td>\n",
       "    </tr>\n",
       "    <tr>\n",
       "      <th>708135</th>\n",
       "      <td>24958746</td>\n",
       "      <td>3</td>\n",
       "      <td>8</td>\n",
       "      <td>en</td>\n",
       "    </tr>\n",
       "    <tr>\n",
       "      <th>193775</th>\n",
       "      <td>12388193</td>\n",
       "      <td>4</td>\n",
       "      <td>5</td>\n",
       "      <td>pt</td>\n",
       "    </tr>\n",
       "    <tr>\n",
       "      <th>985515</th>\n",
       "      <td>25572470</td>\n",
       "      <td>3</td>\n",
       "      <td>5</td>\n",
       "      <td>pt</td>\n",
       "    </tr>\n",
       "    <tr>\n",
       "      <th>990060</th>\n",
       "      <td>25584112</td>\n",
       "      <td>3</td>\n",
       "      <td>8</td>\n",
       "      <td>en</td>\n",
       "    </tr>\n",
       "    <tr>\n",
       "      <th>154339</th>\n",
       "      <td>10173191</td>\n",
       "      <td>3</td>\n",
       "      <td>8</td>\n",
       "      <td>en</td>\n",
       "    </tr>\n",
       "    <tr>\n",
       "      <th>1030868</th>\n",
       "      <td>25688304</td>\n",
       "      <td>4</td>\n",
       "      <td>5</td>\n",
       "      <td>pt</td>\n",
       "    </tr>\n",
       "    <tr>\n",
       "      <th>627336</th>\n",
       "      <td>24732771</td>\n",
       "      <td>3</td>\n",
       "      <td>44</td>\n",
       "      <td>en</td>\n",
       "    </tr>\n",
       "    <tr>\n",
       "      <th>670912</th>\n",
       "      <td>24855643</td>\n",
       "      <td>3</td>\n",
       "      <td>9</td>\n",
       "      <td>en</td>\n",
       "    </tr>\n",
       "    <tr>\n",
       "      <th>280601</th>\n",
       "      <td>17020760</td>\n",
       "      <td>4</td>\n",
       "      <td>2</td>\n",
       "      <td>en</td>\n",
       "    </tr>\n",
       "    <tr>\n",
       "      <th>1019477</th>\n",
       "      <td>25659058</td>\n",
       "      <td>4</td>\n",
       "      <td>3</td>\n",
       "      <td>es</td>\n",
       "    </tr>\n",
       "    <tr>\n",
       "      <th>635077</th>\n",
       "      <td>24754007</td>\n",
       "      <td>4</td>\n",
       "      <td>15</td>\n",
       "      <td>ru</td>\n",
       "    </tr>\n",
       "    <tr>\n",
       "      <th>837114</th>\n",
       "      <td>25202642</td>\n",
       "      <td>3</td>\n",
       "      <td>31</td>\n",
       "      <td>zh</td>\n",
       "    </tr>\n",
       "    <tr>\n",
       "      <th>464197</th>\n",
       "      <td>23520704</td>\n",
       "      <td>4</td>\n",
       "      <td>80</td>\n",
       "      <td>en</td>\n",
       "    </tr>\n",
       "    <tr>\n",
       "      <th>1045611</th>\n",
       "      <td>25726023</td>\n",
       "      <td>4</td>\n",
       "      <td>7</td>\n",
       "      <td>it</td>\n",
       "    </tr>\n",
       "    <tr>\n",
       "      <th>941403</th>\n",
       "      <td>25459406</td>\n",
       "      <td>3</td>\n",
       "      <td>91</td>\n",
       "      <td>es</td>\n",
       "    </tr>\n",
       "    <tr>\n",
       "      <th>201731</th>\n",
       "      <td>12782064</td>\n",
       "      <td>4</td>\n",
       "      <td>90</td>\n",
       "      <td>es</td>\n",
       "    </tr>\n",
       "  </tbody>\n",
       "</table>\n",
       "</div>"
      ],
      "text/plain": [
       "          USER_ID  USER_SCORE  GEO_GROUP LANGUAGE\n",
       "187553   12090644           4         20       ms\n",
       "94675     6435143           4          3       es\n",
       "889940   25324885           4         89       es\n",
       "311945   18726113           4         14       en\n",
       "708135   24958746           3          8       en\n",
       "193775   12388193           4          5       pt\n",
       "985515   25572470           3          5       pt\n",
       "990060   25584112           3          8       en\n",
       "154339   10173191           3          8       en\n",
       "1030868  25688304           4          5       pt\n",
       "627336   24732771           3         44       en\n",
       "670912   24855643           3          9       en\n",
       "280601   17020760           4          2       en\n",
       "1019477  25659058           4          3       es\n",
       "635077   24754007           4         15       ru\n",
       "837114   25202642           3         31       zh\n",
       "464197   23520704           4         80       en\n",
       "1045611  25726023           4          7       it\n",
       "941403   25459406           3         91       es\n",
       "201731   12782064           4         90       es"
      ]
     },
     "execution_count": 4,
     "metadata": {},
     "output_type": "execute_result"
    }
   ],
   "source": [
    "# USERS\n",
    "df_user = pd.read_csv('data/USERS.csv')\n",
    "df_user.columns =  ['USER_ID', 'USER_SCORE', 'GEO_GROUP', 'LANGUAGE']\n",
    "\n",
    "df_user = df_user.sample(frac=0.25, replace=True, random_state=1)\n",
    "df_user.to_csv('exports/USERS.csv', index=False)\n",
    "df_user.reset_index(drop=True)\n",
    "\n",
    "upload_file('exports/USERS.csv', 'personalize/USERS.csv')\n",
    "print('number of users in dataset: ', df_user.size)\n",
    "df_user.tail(20)"
   ]
  },
  {
   "cell_type": "code",
   "execution_count": 5,
   "metadata": {},
   "outputs": [
    {
     "data": {
      "text/plain": [
       "<matplotlib.axes._subplots.AxesSubplot at 0x7ff3dc0147b8>"
      ]
     },
     "execution_count": 5,
     "metadata": {},
     "output_type": "execute_result"
    },
    {
     "data": {
      "image/png": "[encoded data removed]",
      "text/plain": [
       "<Figure size 432x288 with 1 Axes>"
      ]
     },
     "metadata": {},
     "output_type": "display_data"
    }
   ],
   "source": [
    "df_user['LANGUAGE'].value_counts(sort=True)[:10].plot.pie()"
   ]
  },
  {
   "cell_type": "code",
   "execution_count": 6,
   "metadata": {},
   "outputs": [
    {
     "data": {
      "text/plain": [
       "<matplotlib.axes._subplots.AxesSubplot at 0x7ff3dc050278>"
      ]
     },
     "execution_count": 6,
     "metadata": {},
     "output_type": "execute_result"
    },
    {
     "data": {
      "image/png": "[encoded data removed]",
      "text/plain": [
       "<Figure size 432x288 with 1 Axes>"
      ]
     },
     "metadata": {},
     "output_type": "display_data"
    }
   ],
   "source": [
    "df_user['GEO_GROUP'].value_counts(sort=True)[:10].plot.pie()"
   ]
  },
  {
   "cell_type": "code",
   "execution_count": 7,
   "metadata": {},
   "outputs": [
    {
     "name": "stdout",
     "output_type": "stream",
     "text": [
      "An error occurred (ResourceAlreadyExistsException) when calling the CreateSchema operation: Another resource with Arn arn:aws:personalize:us-east-1::schema/UserSchema already exists.\n",
      "{'InteractionSchema': 'arn:aws:personalize:us-east-1::schema/InteractionSchema', 'ItemSchema': 'arn:aws:personalize:us-east-1::schema/ItemSchema', 'UserSchema': 'arn:aws:personalize:us-east-1::schema/UserSchema'}\n",
      "{'UserDataset': 'arn:aws:personalize:us-east-1::dataset/MadlipzDatasetGroup/USERS'}\n"
     ]
    }
   ],
   "source": [
    "users = {\n",
    "    'type': 'record',\n",
    "    'name': 'Users',\n",
    "    'namespace': 'com.amazonaws.personalize.schema',\n",
    "    'fields': [\n",
    "        {\n",
    "            'name': 'USER_ID',\n",
    "            'type': 'string'\n",
    "        },\n",
    "        {\n",
    "            'name': 'USER_SCORE',\n",
    "            'type': 'long'\n",
    "        },\n",
    "        {\n",
    "            'name': 'GEO_GROUP',\n",
    "            'type': 'int',\n",
    "            'categorical': True\n",
    "        },\n",
    "        {\n",
    "            'name': 'LANGUAGE',\n",
    "            'type': 'string',\n",
    "            'categorical': True\n",
    "        }\n",
    "    ],\n",
    "    'version': '1.0'\n",
    "}\n",
    "\n",
    "with open('schema/users.json', 'w') as json_file:\n",
    "    json.dump(users, json_file, indent = 4)\n",
    "    \n",
    "schema_arn = create_schema(name = 'UserSchema', schemaFile = 'schema/users.json')\n",
    "print(schema_arn) \n",
    "\n",
    "datasete_arn = crate_dataset(name = 'UserDataset',\n",
    "        schemaArn = schema_arn['UserSchema'],\n",
    "        datasetGroupArn = 'arn:aws:personalize:us-east-1::dataset-group/MadlipzDatasetGroup',\n",
    "        datasetType = 'Users')\n",
    "print(datasete_arn)"
   ]
  },
  {
   "cell_type": "markdown",
   "metadata": {},
   "source": [
    "# Items"
   ]
  },
  {
   "cell_type": "code",
   "execution_count": 8,
   "metadata": {},
   "outputs": [],
   "source": [
    "# df_item = pd.read_csv('data/ITEMS.csv')\n",
    "# df_item.tail()"
   ]
  },
  {
   "cell_type": "code",
   "execution_count": 9,
   "metadata": {
    "scrolled": true
   },
   "outputs": [
    {
     "name": "stdout",
     "output_type": "stream",
     "text": [
      "(-0.579, 81.333]    181006\n",
      "(81.333, 163.0]         23\n",
      "(163.0, 244.667]         3\n",
      "Name: POST_SCORE, dtype: int64\n",
      "number of items: 1448256\n"
     ]
    },
    {
     "data": {
      "text/html": [
       "<div>\n",
       "<style scoped>\n",
       "    .dataframe tbody tr th:only-of-type {\n",
       "        vertical-align: middle;\n",
       "    }\n",
       "\n",
       "    .dataframe tbody tr th {\n",
       "        vertical-align: top;\n",
       "    }\n",
       "\n",
       "    .dataframe thead th {\n",
       "        text-align: right;\n",
       "    }\n",
       "</style>\n",
       "<table border=\"1\" class=\"dataframe\">\n",
       "  <thead>\n",
       "    <tr style=\"text-align: right;\">\n",
       "      <th></th>\n",
       "      <th>ITEM_ID</th>\n",
       "      <th>CLIP_CATEGORY</th>\n",
       "      <th>POST_FEATURED</th>\n",
       "      <th>POST_COUNTRY</th>\n",
       "      <th>POST_LANGUAGE</th>\n",
       "      <th>POST_SCORE</th>\n",
       "      <th>POST_SHARES</th>\n",
       "      <th>TIMESTAMP</th>\n",
       "    </tr>\n",
       "  </thead>\n",
       "  <tbody>\n",
       "    <tr>\n",
       "      <th>181592</th>\n",
       "      <td>49762113</td>\n",
       "      <td>memes</td>\n",
       "      <td>1</td>\n",
       "      <td>BR</td>\n",
       "      <td>pt</td>\n",
       "      <td>-0.333333</td>\n",
       "      <td>28</td>\n",
       "      <td>1546300800</td>\n",
       "    </tr>\n",
       "    <tr>\n",
       "      <th>181593</th>\n",
       "      <td>49762035</td>\n",
       "      <td>animals</td>\n",
       "      <td>-1</td>\n",
       "      <td>SG</td>\n",
       "      <td>en</td>\n",
       "      <td>0.000000</td>\n",
       "      <td>31</td>\n",
       "      <td>1546300800</td>\n",
       "    </tr>\n",
       "    <tr>\n",
       "      <th>181594</th>\n",
       "      <td>49762027</td>\n",
       "      <td>memes|crying</td>\n",
       "      <td>1</td>\n",
       "      <td>BR</td>\n",
       "      <td>pt</td>\n",
       "      <td>0.333333</td>\n",
       "      <td>64</td>\n",
       "      <td>1546300800</td>\n",
       "    </tr>\n",
       "    <tr>\n",
       "      <th>181595</th>\n",
       "      <td>49761989</td>\n",
       "      <td>animals|monkeys</td>\n",
       "      <td>1</td>\n",
       "      <td>BR</td>\n",
       "      <td>pt</td>\n",
       "      <td>-0.333333</td>\n",
       "      <td>3</td>\n",
       "      <td>1546300800</td>\n",
       "    </tr>\n",
       "    <tr>\n",
       "      <th>181596</th>\n",
       "      <td>49761945</td>\n",
       "      <td>movies|act|lipsync</td>\n",
       "      <td>1</td>\n",
       "      <td>BR</td>\n",
       "      <td>pt</td>\n",
       "      <td>-0.333333</td>\n",
       "      <td>0</td>\n",
       "      <td>1546300800</td>\n",
       "    </tr>\n",
       "  </tbody>\n",
       "</table>\n",
       "</div>"
      ],
      "text/plain": [
       "         ITEM_ID       CLIP_CATEGORY  POST_FEATURED POST_COUNTRY  \\\n",
       "181592  49762113               memes              1           BR   \n",
       "181593  49762035             animals             -1           SG   \n",
       "181594  49762027        memes|crying              1           BR   \n",
       "181595  49761989     animals|monkeys              1           BR   \n",
       "181596  49761945  movies|act|lipsync              1           BR   \n",
       "\n",
       "       POST_LANGUAGE  POST_SCORE  POST_SHARES   TIMESTAMP  \n",
       "181592            pt   -0.333333           28  1546300800  \n",
       "181593            en    0.000000           31  1546300800  \n",
       "181594            pt    0.333333           64  1546300800  \n",
       "181595            pt   -0.333333            3  1546300800  \n",
       "181596            pt   -0.333333            0  1546300800  "
      ]
     },
     "execution_count": 9,
     "metadata": {},
     "output_type": "execute_result"
    }
   ],
   "source": [
    "# ITEMS\n",
    "df_item = pd.read_csv('data/ITEMS.csv')\n",
    "df_item['clip_category'] = df_item['clip_category'].astype(str).apply(lambda x: clean(x))\n",
    "# df_item['clip_keywords'] = df_item['clip_keywords'].astype(str).apply(lambda x: clean(x))\n",
    "# df_item['clip_title'] = df_item['clip_title'].astype(str).apply(lambda x: clean(x))\n",
    "\n",
    "df_item = df_item.dropna()\n",
    "# df_item = df_item.sample(frac=0.8, replace=True, random_state=1)\n",
    "\n",
    "df_item['post_timestamp'] = pd.to_datetime(df_item['post_timestamp']).dt.date\n",
    "df_item['post_timestamp'] = pd.to_datetime(df_item['post_timestamp']).astype('int64')//1e9\n",
    "\n",
    "df_item.drop(['post_geo_group', 'post_meta_plays', 'post_views', \n",
    "              'clip_keywords', 'clip_title'], axis=1, inplace=True)\n",
    "\n",
    "min_max_scaler = preprocessing.RobustScaler()\n",
    "df_item['posts_score'] = min_max_scaler.fit_transform(df_item[['posts_score']])\n",
    "\n",
    "\n",
    "df_item.columns = ['ITEM_ID', 'CLIP_CATEGORY', 'POST_FEATURED', 'POST_COUNTRY',\n",
    "                   'POST_LANGUAGE', 'POST_SCORE', 'POST_SHARES', 'TIMESTAMP'\n",
    "                  ]\n",
    "df_item.to_csv('exports/ITEMS.csv', index=False)\n",
    "\n",
    "# df_item['POST_SCORE'].plot(kind='bar')\n",
    "print(df_item['POST_SCORE'].value_counts(bins=3)) \n",
    "# print(df_item['TIMESTAMP'].value_counts())\n",
    "\n",
    "upload_file('exports/ITEMS.csv', 'personalize/ITEMS.csv')\n",
    "print('number of items:', df_item.size)\n",
    "df_item.tail()"
   ]
  },
  {
   "cell_type": "code",
   "execution_count": 10,
   "metadata": {},
   "outputs": [
    {
     "data": {
      "text/plain": [
       "<matplotlib.axes._subplots.AxesSubplot at 0x7ff3da8dbe10>"
      ]
     },
     "execution_count": 10,
     "metadata": {},
     "output_type": "execute_result"
    },
    {
     "data": {
      "image/png": "[encoded data removed]",
      "text/plain": [
       "<Figure size 432x288 with 1 Axes>"
      ]
     },
     "metadata": {},
     "output_type": "display_data"
    }
   ],
   "source": [
    "df_item['POST_COUNTRY'].value_counts(sort=True)[:10].plot.pie()"
   ]
  },
  {
   "cell_type": "code",
   "execution_count": 11,
   "metadata": {},
   "outputs": [
    {
     "data": {
      "text/plain": [
       "<matplotlib.axes._subplots.AxesSubplot at 0x7ff3da75a2e8>"
      ]
     },
     "execution_count": 11,
     "metadata": {},
     "output_type": "execute_result"
    },
    {
     "data": {
      "image/png": "[encoded data removed]",
      "text/plain": [
       "<Figure size 432x288 with 1 Axes>"
      ]
     },
     "metadata": {},
     "output_type": "display_data"
    }
   ],
   "source": [
    "df_item['POST_LANGUAGE'].value_counts(sort=True)[:10].plot.pie()"
   ]
  },
  {
   "cell_type": "code",
   "execution_count": 12,
   "metadata": {},
   "outputs": [
    {
     "name": "stdout",
     "output_type": "stream",
     "text": [
      "An error occurred (ResourceAlreadyExistsException) when calling the CreateSchema operation: Another resource with Arn arn:aws:personalize:us-east-1::schema/ItemSchema already exists.\n",
      "{'InteractionSchema': 'arn:aws:personalize:us-east-1::schema/InteractionSchema', 'ItemSchema': 'arn:aws:personalize:us-east-1::schema/ItemSchema', 'UserSchema': 'arn:aws:personalize:us-east-1::schema/UserSchema'}\n",
      "{'UserDataset': 'arn:aws:personalize:us-east-1::dataset/MadlipzDatasetGroup/USERS'}\n"
     ]
    }
   ],
   "source": [
    "items = {\n",
    "    \"type\": \"record\",\n",
    "    \"name\": \"Items\",\n",
    "    \"namespace\": \"com.amazonaws.personalize.schema\",\n",
    "    \"fields\": [\n",
    "        {\n",
    "            \"name\": \"ITEM_ID\",\n",
    "            \"type\": \"string\"\n",
    "        },\n",
    "        {\n",
    "            \"name\": \"CLIP_CATEGORY\",\n",
    "            \"type\": \"string\",\n",
    "            \"categorical\": True\n",
    "        },\n",
    "        {\n",
    "            \"name\": \"POST_FEATURED\",\n",
    "            \"type\": \"int\"\n",
    "        },\n",
    "        {\n",
    "            \"name\": \"POST_COUNTRY\",\n",
    "            \"type\": \"string\",\n",
    "            \"categorical\": True\n",
    "        },\n",
    "        {\n",
    "            \"name\": \"POST_LANGUAGE\",\n",
    "            \"type\": \"string\",\n",
    "            \"categorical\": True\n",
    "        },\n",
    "        {\n",
    "            \"name\": \"POST_SCORE\",\n",
    "            \"type\": \"float\"\n",
    "        },\n",
    "        {\n",
    "            \"name\": \"POST_SHARES\",\n",
    "            \"type\": \"int\"\n",
    "        },\n",
    "        {\n",
    "            \"name\": \"TIMESTAMP\",\n",
    "            \"type\": \"long\"\n",
    "        }\n",
    "    ],\n",
    "    \"version\": \"1.0\"\n",
    "}\n",
    "# ITEM_ID,CLIP_CATEGORY,CLIP_KEYWORDS,CLIP_TITLE,POST_FEATURED,POST_COUNTRY,POST_LANGUAGE,POST_SCORE,POST_SHARES,POST_TIMESTAMP\n",
    "\n",
    "with open('schema/items.json', 'w') as json_file:\n",
    "    json.dump(items, json_file, indent = 4)\n",
    "\n",
    "    \n",
    "# personalize.delete_schema(schemaArn= 'arn:aws:personalize:us-east-1::schema/ItemSchema')\n",
    "\n",
    "schema_arn = create_schema(name = 'ItemSchema', schemaFile = 'schema/items.json')\n",
    "print(schema_arn)   \n",
    "\n",
    "\n",
    "dataset_arn = crate_dataset(name = 'ItemsDataset',\n",
    "        schemaArn = schema_arn['ItemSchema'],\n",
    "        datasetGroupArn = 'arn:aws:personalize:us-east-1::dataset-group/MadlipzDatasetGroup',\n",
    "        datasetType = 'Items')\n",
    "print(datasete_arn)"
   ]
  },
  {
   "cell_type": "markdown",
   "metadata": {},
   "source": [
    "# Interactions"
   ]
  },
  {
   "cell_type": "code",
   "execution_count": 13,
   "metadata": {},
   "outputs": [
    {
     "name": "stdout",
     "output_type": "stream",
     "text": [
      "User Item Interaction size: 1133455\n",
      "5150 70333\n"
     ]
    },
    {
     "data": {
      "text/html": [
       "<div>\n",
       "<style scoped>\n",
       "    .dataframe tbody tr th:only-of-type {\n",
       "        vertical-align: middle;\n",
       "    }\n",
       "\n",
       "    .dataframe tbody tr th {\n",
       "        vertical-align: top;\n",
       "    }\n",
       "\n",
       "    .dataframe thead th {\n",
       "        text-align: right;\n",
       "    }\n",
       "</style>\n",
       "<table border=\"1\" class=\"dataframe\">\n",
       "  <thead>\n",
       "    <tr style=\"text-align: right;\">\n",
       "      <th></th>\n",
       "      <th>USER_ID</th>\n",
       "      <th>ITEM_ID</th>\n",
       "      <th>POST_LIKE</th>\n",
       "      <th>POST_COMMENT</th>\n",
       "      <th>TIMESTAMP</th>\n",
       "    </tr>\n",
       "  </thead>\n",
       "  <tbody>\n",
       "    <tr>\n",
       "      <th>226686</th>\n",
       "      <td>1812145</td>\n",
       "      <td>83364664</td>\n",
       "      <td>0</td>\n",
       "      <td>0</td>\n",
       "      <td>1</td>\n",
       "    </tr>\n",
       "    <tr>\n",
       "      <th>226687</th>\n",
       "      <td>1813431</td>\n",
       "      <td>49872862</td>\n",
       "      <td>0</td>\n",
       "      <td>0</td>\n",
       "      <td>1</td>\n",
       "    </tr>\n",
       "    <tr>\n",
       "      <th>226688</th>\n",
       "      <td>1813431</td>\n",
       "      <td>61540459</td>\n",
       "      <td>0</td>\n",
       "      <td>0</td>\n",
       "      <td>1</td>\n",
       "    </tr>\n",
       "    <tr>\n",
       "      <th>226689</th>\n",
       "      <td>1813431</td>\n",
       "      <td>63681366</td>\n",
       "      <td>0</td>\n",
       "      <td>0</td>\n",
       "      <td>1</td>\n",
       "    </tr>\n",
       "    <tr>\n",
       "      <th>226690</th>\n",
       "      <td>1813431</td>\n",
       "      <td>78323335</td>\n",
       "      <td>0</td>\n",
       "      <td>0</td>\n",
       "      <td>1</td>\n",
       "    </tr>\n",
       "  </tbody>\n",
       "</table>\n",
       "</div>"
      ],
      "text/plain": [
       "        USER_ID   ITEM_ID  POST_LIKE  POST_COMMENT  TIMESTAMP\n",
       "226686  1812145  83364664          0             0          1\n",
       "226687  1813431  49872862          0             0          1\n",
       "226688  1813431  61540459          0             0          1\n",
       "226689  1813431  63681366          0             0          1\n",
       "226690  1813431  78323335          0             0          1"
      ]
     },
     "execution_count": 13,
     "metadata": {},
     "output_type": "execute_result"
    }
   ],
   "source": [
    "df_interaction = pd.read_csv('data/INTERACTIONS.csv')\n",
    "\n",
    "# filter interactions based on the dataset\n",
    "# df_interaction = df_interaction[df_interaction['item_id'].isin(df_item['ITEM_ID'])]\n",
    "df_interaction = df_interaction[df_interaction['user_id'].isin(df_user['USER_ID'])]\n",
    "\n",
    "df_interaction = df_interaction.drop_duplicates(['item_id', 'user_id'], keep= 'last').reset_index()\n",
    "df_interaction['post_timestamp'] = pd.to_datetime(df_interaction['post_timestamp']).astype('int64')//1e9\n",
    "\n",
    "# df_interaction = df_interaction.sample(frac=0.5, replace=True, random_state=1)\n",
    "\n",
    "# df_interaction.reset_index(drop=True, inplace=True)\n",
    "df_interaction.drop(['index'], axis=1, inplace=True)\n",
    "\n",
    "df_interaction.columns = ['USER_ID', 'ITEM_ID', 'POST_LIKE', 'POST_COMMENT', 'TIMESTAMP']\n",
    "\n",
    "df_interaction.to_csv('exports/INTERACTIONS.csv', index=False)\n",
    "\n",
    "upload_file('exports/INTERACTIONS.csv', 'personalize/INTERACTIONS.csv')\n",
    "\n",
    "print('User Item Interaction size:', df_interaction.size)\n",
    "print(df_interaction.USER_ID.nunique(), df_interaction.ITEM_ID.nunique())\n",
    "df_interaction.tail()"
   ]
  },
  {
   "cell_type": "code",
   "execution_count": 14,
   "metadata": {},
   "outputs": [
    {
     "data": {
      "text/plain": [
       "<matplotlib.axes._subplots.AxesSubplot at 0x7ff3d8c77a58>"
      ]
     },
     "execution_count": 14,
     "metadata": {},
     "output_type": "execute_result"
    },
    {
     "data": {
      "image/png": "[encoded data removed]",
      "text/plain": [
       "<Figure size 432x288 with 1 Axes>"
      ]
     },
     "metadata": {},
     "output_type": "display_data"
    }
   ],
   "source": [
    "df_interaction['POST_LIKE'].value_counts(sort=True).plot.pie()\n",
    "#REVIEW!!!!!!"
   ]
  },
  {
   "cell_type": "code",
   "execution_count": 15,
   "metadata": {},
   "outputs": [
    {
     "data": {
      "text/plain": [
       "<matplotlib.axes._subplots.AxesSubplot at 0x7ff3d9c04748>"
      ]
     },
     "execution_count": 15,
     "metadata": {},
     "output_type": "execute_result"
    },
    {
     "data": {
      "image/png": "[encoded data removed]",
      "text/plain": [
       "<Figure size 432x288 with 1 Axes>"
      ]
     },
     "metadata": {},
     "output_type": "display_data"
    }
   ],
   "source": [
    "df_interaction['POST_COMMENT'].value_counts(sort=True).plot.pie()"
   ]
  },
  {
   "cell_type": "code",
   "execution_count": 16,
   "metadata": {},
   "outputs": [
    {
     "name": "stdout",
     "output_type": "stream",
     "text": [
      "An error occurred (ResourceAlreadyExistsException) when calling the CreateSchema operation: Another resource with Arn arn:aws:personalize:us-east-1::schema/InteractionSchema already exists.\n",
      "{'InteractionSchema': 'arn:aws:personalize:us-east-1::schema/InteractionSchema', 'ItemSchema': 'arn:aws:personalize:us-east-1::schema/ItemSchema', 'UserSchema': 'arn:aws:personalize:us-east-1::schema/UserSchema'}\n",
      "{'InteractionDataset': 'arn:aws:personalize:us-east-1::dataset/MadlipzDatasetGroup/INTERACTIONS', 'ItemsDataset': 'arn:aws:personalize:us-east-1::dataset/MadlipzDatasetGroup/ITEMS', 'UserDataset': 'arn:aws:personalize:us-east-1::dataset/MadlipzDatasetGroup/USERS'}\n"
     ]
    }
   ],
   "source": [
    "interactions = {\n",
    "    \"type\": \"record\",\n",
    "    \"name\": \"Interactions\",\n",
    "    \"namespace\": \"com.amazonaws.personalize.schema\",\n",
    "    \"fields\": [\n",
    "        {\n",
    "            \"name\": \"USER_ID\",\n",
    "            \"type\": \"string\"\n",
    "        },\n",
    "        {\n",
    "            \"name\": \"ITEM_ID\",\n",
    "            \"type\": \"string\"\n",
    "        },        \n",
    "        {\n",
    "            \"name\": \"POST_LIKE\",\n",
    "            \"type\": \"int\",\n",
    "            \"categorical\": True\n",
    "        },\n",
    "        {\n",
    "            \"name\": \"POST_COMMENT\",\n",
    "            \"type\": \"int\",\n",
    "            \"categorical\": True\n",
    "        },\n",
    "        {\n",
    "            \"name\": \"TIMESTAMP\",\n",
    "            \"type\": \"long\"\n",
    "        }\n",
    "    ],\n",
    "    \"version\": \"1.0\"\n",
    "}\n",
    "\n",
    "with open('schema/interactions.json', 'w') as json_file:\n",
    "    json.dump(interactions, json_file, indent = 4)\n",
    "\n",
    "\n",
    "schema_arn = create_schema(name = 'InteractionSchema', schemaFile = 'schema/interactions.json')\n",
    "print(schema_arn) \n",
    "\n",
    "dataset_arn = crate_dataset(name = 'InteractionDataset',\n",
    "        schemaArn = schema_arn['InteractionSchema'],\n",
    "        datasetGroupArn = 'arn:aws:personalize:us-east-1::dataset-group/MadlipzDatasetGroup',\n",
    "        datasetType = 'Interactions')\n",
    "print(dataset_arn)"
   ]
  },
  {
   "cell_type": "code",
   "execution_count": null,
   "metadata": {},
   "outputs": [],
   "source": []
  },
  {
   "cell_type": "markdown",
   "metadata": {},
   "source": [
    "# Dataset group"
   ]
  },
  {
   "cell_type": "code",
   "execution_count": 17,
   "metadata": {},
   "outputs": [
    {
     "name": "stdout",
     "output_type": "stream",
     "text": [
      "{'datasetGroups': [{'name': 'MadlipzDatasetGroup', 'datasetGroupArn': 'arn:aws:personalize:us-east-1::dataset-group/MadlipzDatasetGroup', 'status': 'ACTIVE', 'creationDateTime': datetime.datetime(2020, 7, 29, 20, 46, 47, 601000, tzinfo=tzlocal()), 'lastUpdatedDateTime': datetime.datetime(2020, 7, 29, 20, 46, 56, 108000, tzinfo=tzlocal())}], 'ResponseMetadata': {'RequestId': 'e18f61ee-1853-4246-ae41-1657c61fb160', 'HTTPStatusCode': 200, 'HTTPHeaders': {'content-type': 'application/x-amz-json-1.1', 'date': 'Thu, 08 Oct 2020 03:36:11 GMT', 'x-amzn-requestid': 'e18f61ee-1853-4246-ae41-1657c61fb160', 'content-length': '240', 'connection': 'keep-alive'}, 'RetryAttempts': 0}}\n"
     ]
    }
   ],
   "source": [
    "# need to be done one time\n",
    "def create_dataset_group(name = 'MadlipzDatasetGroup'):\n",
    "    try:\n",
    "        response = personalize.create_dataset_group(name = name)\n",
    "        dsg_arn = response['datasetGroupArn']\n",
    "\n",
    "        description = personalize.describe_dataset_group(datasetGroupArn = dsg_arn)['datasetGroup']\n",
    "\n",
    "        print('Name: ' + description['name'])\n",
    "        print('ARN: ' + description['datasetGroupArn'])\n",
    "        print('Status: ' + description['status'])\n",
    "    except:\n",
    "        print(personalize.list_dataset_groups())\n",
    "    \n",
    "create_dataset_group(name = 'MadlipzDatasetGroup')"
   ]
  },
  {
   "cell_type": "code",
   "execution_count": 18,
   "metadata": {},
   "outputs": [],
   "source": [
    "def create_dataset_import_job(jobName, datasetArn, dataLocation):\n",
    "    try:\n",
    "        response = personalize.create_dataset_import_job(\n",
    "            jobName = jobName,\n",
    "            datasetArn = datasetArn,\n",
    "            dataSource = { 'dataLocation': dataLocation },\n",
    "            roleArn = roleArn)\n",
    "\n",
    "        dsij_arn = response['datasetImportJobArn']\n",
    "\n",
    "        print ('Dataset Import Job arn: ' + dsij_arn)\n",
    "    except Exception as e:\n",
    "        print (e)\n",
    "    \n",
    "\n",
    "    description = personalize.list_dataset_import_jobs()['datasetImportJobs']\n",
    "    print('Dataset Import Jobs: ' , description)"
   ]
  },
  {
   "cell_type": "code",
   "execution_count": 19,
   "metadata": {},
   "outputs": [
    {
     "name": "stdout",
     "output_type": "stream",
     "text": [
      "Dataset Import Job arn: arn:aws:personalize:us-east-1::dataset-import-job/UsersImportJobName\n",
      "Dataset Import Jobs:  [{'datasetImportJobArn': 'arn:aws:personalize:us-east-1::dataset-import-job/UsersImportJobName', 'jobName': 'UsersImportJobName', 'status': 'CREATE PENDING', 'creationDateTime': datetime.datetime(2020, 10, 8, 3, 36, 21, 207000, tzinfo=tzlocal()), 'lastUpdatedDateTime': datetime.datetime(2020, 10, 8, 3, 36, 21, 207000, tzinfo=tzlocal())}]\n"
     ]
    }
   ],
   "source": [
    "create_dataset_import_job(jobName='UsersImportJobName', \n",
    "                         datasetArn= dataset_arn['UserDataset'],\n",
    "                         dataLocation='s3://madlipz-data-lake/personalize/USERS.csv')"
   ]
  },
  {
   "cell_type": "code",
   "execution_count": 20,
   "metadata": {},
   "outputs": [
    {
     "name": "stdout",
     "output_type": "stream",
     "text": [
      "Dataset Import Job arn: arn:aws:personalize:us-east-1::dataset-import-job/ItemsImportJobName\n",
      "Dataset Import Jobs:  [{'datasetImportJobArn': 'arn:aws:personalize:us-east-1::dataset-import-job/ItemsImportJobName', 'jobName': 'ItemsImportJobName', 'status': 'CREATE PENDING', 'creationDateTime': datetime.datetime(2020, 10, 8, 3, 36, 22, 778000, tzinfo=tzlocal()), 'lastUpdatedDateTime': datetime.datetime(2020, 10, 8, 3, 36, 22, 778000, tzinfo=tzlocal())}, {'datasetImportJobArn': 'arn:aws:personalize:us-east-1::dataset-import-job/UsersImportJobName', 'jobName': 'UsersImportJobName', 'status': 'CREATE PENDING', 'creationDateTime': datetime.datetime(2020, 10, 8, 3, 36, 21, 207000, tzinfo=tzlocal()), 'lastUpdatedDateTime': datetime.datetime(2020, 10, 8, 3, 36, 21, 207000, tzinfo=tzlocal())}]\n"
     ]
    }
   ],
   "source": [
    "create_dataset_import_job(jobName='ItemsImportJobName', \n",
    "                         datasetArn= dataset_arn['ItemsDataset'],\n",
    "                         dataLocation='s3://madlipz-data-lake/personalize/ITEMS.csv')"
   ]
  },
  {
   "cell_type": "code",
   "execution_count": 21,
   "metadata": {},
   "outputs": [
    {
     "name": "stdout",
     "output_type": "stream",
     "text": [
      "Dataset Import Job arn: arn:aws:personalize:us-east-1::dataset-import-job/InteractionImportJobName\n",
      "Dataset Import Jobs:  [{'datasetImportJobArn': 'arn:aws:personalize:us-east-1::dataset-import-job/InteractionImportJobName', 'jobName': 'InteractionImportJobName', 'status': 'CREATE PENDING', 'creationDateTime': datetime.datetime(2020, 10, 8, 3, 36, 23, 969000, tzinfo=tzlocal()), 'lastUpdatedDateTime': datetime.datetime(2020, 10, 8, 3, 36, 23, 969000, tzinfo=tzlocal())}, {'datasetImportJobArn': 'arn:aws:personalize:us-east-1::dataset-import-job/ItemsImportJobName', 'jobName': 'ItemsImportJobName', 'status': 'CREATE PENDING', 'creationDateTime': datetime.datetime(2020, 10, 8, 3, 36, 22, 778000, tzinfo=tzlocal()), 'lastUpdatedDateTime': datetime.datetime(2020, 10, 8, 3, 36, 22, 778000, tzinfo=tzlocal())}, {'datasetImportJobArn': 'arn:aws:personalize:us-east-1::dataset-import-job/UsersImportJobName', 'jobName': 'UsersImportJobName', 'status': 'CREATE PENDING', 'creationDateTime': datetime.datetime(2020, 10, 8, 3, 36, 21, 207000, tzinfo=tzlocal()), 'lastUpdatedDateTime': datetime.datetime(2020, 10, 8, 3, 36, 21, 207000, tzinfo=tzlocal())}]\n"
     ]
    }
   ],
   "source": [
    "create_dataset_import_job(jobName='InteractionImportJobName', \n",
    "                         datasetArn= dataset_arn['InteractionDataset'],\n",
    "                         dataLocation='s3://madlipz-data-lake/personalize/INTERACTIONS.csv')"
   ]
  },
  {
   "cell_type": "code",
   "execution_count": 22,
   "metadata": {},
   "outputs": [
    {
     "name": "stdout",
     "output_type": "stream",
     "text": [
      "arn:aws:personalize:us-east-1::dataset-group/MadlipzDatasetGroup\n"
     ]
    }
   ],
   "source": [
    "print(personalize.list_dataset_groups()['datasetGroups'][0]['datasetGroupArn'])"
   ]
  },
  {
   "cell_type": "code",
   "execution_count": 23,
   "metadata": {},
   "outputs": [
    {
     "name": "stdout",
     "output_type": "stream",
     "text": [
      "{\r\n",
      "    \"recipes\": [\r\n",
      "        {\r\n",
      "            \"name\": \"aws-hrnn\",\r\n",
      "            \"recipeArn\": \"arn:aws:personalize:::recipe/aws-hrnn\",\r\n",
      "            \"status\": \"ACTIVE\",\r\n",
      "            \"creationDateTime\": 1560124800.0,\r\n",
      "            \"lastUpdatedDateTime\": 1598374620.148\r\n",
      "        },\r\n",
      "        {\r\n",
      "            \"name\": \"aws-hrnn-coldstart\",\r\n",
      "            \"recipeArn\": \"arn:aws:personalize:::recipe/aws-hrnn-coldstart\",\r\n",
      "            \"status\": \"ACTIVE\",\r\n",
      "            \"creationDateTime\": 1560124800.0,\r\n",
      "            \"lastUpdatedDateTime\": 1598374620.148\r\n",
      "        },\r\n",
      "        {\r\n",
      "            \"name\": \"aws-hrnn-metadata\",\r\n",
      "            \"recipeArn\": \"arn:aws:personalize:::recipe/aws-hrnn-metadata\",\r\n",
      "            \"status\": \"ACTIVE\",\r\n",
      "            \"creationDateTime\": 1560124800.0,\r\n",
      "            \"lastUpdatedDateTime\": 1598374620.148\r\n",
      "        },\r\n",
      "        {\r\n",
      "            \"name\": \"aws-personalized-ranking\",\r\n",
      "            \"recipeArn\": \"arn:aws:personalize:::recipe/aws-personalized-ranking\",\r\n",
      "            \"status\": \"ACTIVE\",\r\n",
      "            \"creationDateTime\": 1560124800.0,\r\n",
      "            \"lastUpdatedDateTime\": 1598374620.148\r\n",
      "        },\r\n",
      "        {\r\n",
      "            \"name\": \"aws-popularity-count\",\r\n",
      "            \"recipeArn\": \"arn:aws:personalize:::recipe/aws-popularity-count\",\r\n",
      "            \"status\": \"ACTIVE\",\r\n",
      "            \"creationDateTime\": 1560124800.0,\r\n",
      "            \"lastUpdatedDateTime\": 1598374620.148\r\n",
      "        },\r\n",
      "        {\r\n",
      "            \"name\": \"aws-sims\",\r\n",
      "            \"recipeArn\": \"arn:aws:personalize:::recipe/aws-sims\",\r\n",
      "            \"status\": \"ACTIVE\",\r\n",
      "            \"creationDateTime\": 1560124800.0,\r\n",
      "            \"lastUpdatedDateTime\": 1598374620.148\r\n",
      "        },\r\n",
      "        {\r\n",
      "            \"name\": \"aws-user-personalization\",\r\n",
      "            \"recipeArn\": \"arn:aws:personalize:::recipe/aws-user-personalization\",\r\n",
      "            \"status\": \"ACTIVE\",\r\n",
      "            \"creationDateTime\": 1560124800.0,\r\n",
      "            \"lastUpdatedDateTime\": 1598374620.148\r\n",
      "        }\r\n",
      "    ]\r\n",
      "}\r\n"
     ]
    }
   ],
   "source": [
    "!aws personalize list-recipes"
   ]
  },
  {
   "cell_type": "markdown",
   "metadata": {},
   "source": [
    "# Create Solution"
   ]
  },
  {
   "cell_type": "code",
   "execution_count": 33,
   "metadata": {},
   "outputs": [
    {
     "name": "stdout",
     "output_type": "stream",
     "text": [
      "Creating solution first-solution-aws-user-personalization\n",
      "Solution ARN: arn:aws:personalize:us-east-1::solution/first-solution-aws-user-personalization\n",
      "Solution status: ACTIVE\n",
      "Creating solution version\n",
      "Solution version ARN: arn:aws:personalize:us-east-1::solution/first-solution-aws-user-personalization/beed8420\n",
      "Solution version status: CREATE PENDING\n"
     ]
    }
   ],
   "source": [
    "name = \"first-solution-aws-user-personalization\"\n",
    "print ('Creating solution', name)\n",
    "\n",
    "response = personalize.create_solution(\n",
    "    name = name,\n",
    "    datasetGroupArn = personalize.list_dataset_groups()['datasetGroups'][0]['datasetGroupArn'],\n",
    "    recipeArn = 'arn:aws:personalize:::recipe/aws-user-personalization'\n",
    "#     performAutoML = True\n",
    ")\n",
    "\n",
    "# Get the solution ARN.\n",
    "solution_arn = response['solutionArn']\n",
    "print('Solution ARN: ' + solution_arn)\n",
    "\n",
    "# Use the solution ARN to get the solution status.\n",
    "solution_description = personalize.describe_solution(solutionArn = solution_arn)['solution']\n",
    "print('Solution status: ' + solution_description['status'])\n",
    "\n",
    "# Use the solution ARN to create a solution version.\n",
    "print ('Creating solution version')\n",
    "response = personalize.create_solution_version(solutionArn = solution_arn)\n",
    "solution_version_arn = response['solutionVersionArn']\n",
    "print('Solution version ARN: ' + solution_version_arn)\n",
    "\n",
    "# Use the solution version ARN to get the solution version status.\n",
    "solution_version_description = personalize.describe_solution_version(\n",
    "    solutionVersionArn = solution_version_arn)['solutionVersion']\n",
    "print('Solution version status: ' + solution_version_description['status'])"
   ]
  },
  {
   "cell_type": "code",
   "execution_count": 34,
   "metadata": {},
   "outputs": [
    {
     "name": "stdout",
     "output_type": "stream",
     "text": [
      "[{'solutionVersionArn': 'arn:aws:personalize:us-east-1::solution/FirstSolution-aws-user-personalization/4e75477e', 'status': 'CREATE IN_PROGRESS', 'creationDateTime': datetime.datetime(2020, 10, 8, 4, 7, 38, 488000, tzinfo=tzlocal()), 'lastUpdatedDateTime': datetime.datetime(2020, 10, 8, 4, 7, 39, 621000, tzinfo=tzlocal())}, {'solutionVersionArn': 'arn:aws:personalize:us-east-1::solution/first-solution-aws-hrnn-metadata/4480c8bc', 'status': 'CREATE IN_PROGRESS', 'creationDateTime': datetime.datetime(2020, 10, 8, 4, 10, 58, 662000, tzinfo=tzlocal()), 'lastUpdatedDateTime': datetime.datetime(2020, 10, 8, 4, 11, 5, 264000, tzinfo=tzlocal())}, {'solutionVersionArn': 'arn:aws:personalize:us-east-1::solution/first-solution-aws-hrnn/58ab9958', 'status': 'CREATE IN_PROGRESS', 'creationDateTime': datetime.datetime(2020, 10, 8, 4, 9, 38, 579000, tzinfo=tzlocal()), 'lastUpdatedDateTime': datetime.datetime(2020, 10, 8, 4, 10, 7, 231000, tzinfo=tzlocal())}, {'solutionVersionArn': 'arn:aws:personalize:us-east-1::solution/first-solution-aws-personalized-ranking/1971a94e', 'status': 'CREATE IN_PROGRESS', 'creationDateTime': datetime.datetime(2020, 10, 8, 4, 13, 38, 626000, tzinfo=tzlocal()), 'lastUpdatedDateTime': datetime.datetime(2020, 10, 8, 4, 14, 4, 763000, tzinfo=tzlocal())}, {'solutionVersionArn': 'arn:aws:personalize:us-east-1::solution/first-solution-aws-popularity-count/fc8dd235', 'status': 'CREATE IN_PROGRESS', 'creationDateTime': datetime.datetime(2020, 10, 8, 4, 14, 18, 849000, tzinfo=tzlocal()), 'lastUpdatedDateTime': datetime.datetime(2020, 10, 8, 4, 14, 34, 165000, tzinfo=tzlocal())}, {'solutionVersionArn': 'arn:aws:personalize:us-east-1::solution/first-solution-aws-sims/f0250222', 'status': 'CREATE IN_PROGRESS', 'creationDateTime': datetime.datetime(2020, 10, 8, 4, 14, 51, 869000, tzinfo=tzlocal()), 'lastUpdatedDateTime': datetime.datetime(2020, 10, 8, 4, 15, 4, 782000, tzinfo=tzlocal())}, {'solutionVersionArn': 'arn:aws:personalize:us-east-1::solution/first-solution-aws-user-personalization/beed8420', 'status': 'CREATE IN_PROGRESS', 'creationDateTime': datetime.datetime(2020, 10, 8, 4, 17, 24, 586000, tzinfo=tzlocal()), 'lastUpdatedDateTime': datetime.datetime(2020, 10, 8, 4, 17, 30, 203000, tzinfo=tzlocal())}]\n"
     ]
    }
   ],
   "source": [
    "# Use the solution version ARN to get the solution version status.\n",
    "print(personalize.list_solution_versions()['solutionVersions'])\n",
    "# solution_version_description = personalize.describe_solution_version(\n",
    "#     solutionVersionArn = 'arn:aws:personalize:us-east-1::solution/FirstSolution')['solutionVersion']\n",
    "# print('Solution version status: ' + solution_version_description['status'])"
   ]
  },
  {
   "cell_type": "code",
   "execution_count": 35,
   "metadata": {},
   "outputs": [
    {
     "name": "stdout",
     "output_type": "stream",
     "text": [
      "FirstSolution-aws-user-personalization\n",
      "--------------------------------------------------\n",
      "first-solution-aws-hrnn-metadata\n",
      "--------------------------------------------------\n",
      "first-solution-aws-hrnn\n",
      "--------------------------------------------------\n",
      "first-solution-aws-personalized-ranking\n",
      "--------------------------------------------------\n",
      "first-solution-aws-popularity-count\n",
      "--------------------------------------------------\n",
      "first-solution-aws-sims\n",
      "--------------------------------------------------\n",
      "first-solution-aws-user-personalization\n",
      "--------------------------------------------------\n"
     ]
    },
    {
     "data": {
      "text/html": [
       "<div>\n",
       "<style scoped>\n",
       "    .dataframe tbody tr th:only-of-type {\n",
       "        vertical-align: middle;\n",
       "    }\n",
       "\n",
       "    .dataframe tbody tr th {\n",
       "        vertical-align: top;\n",
       "    }\n",
       "\n",
       "    .dataframe thead th {\n",
       "        text-align: right;\n",
       "    }\n",
       "</style>\n",
       "<table border=\"1\" class=\"dataframe\">\n",
       "  <thead>\n",
       "    <tr style=\"text-align: right;\">\n",
       "      <th></th>\n",
       "      <th>coverage</th>\n",
       "      <th>mean_reciprocal_rank_at_25</th>\n",
       "      <th>name</th>\n",
       "      <th>normalized_discounted_cumulative_gain_at_10</th>\n",
       "      <th>normalized_discounted_cumulative_gain_at_25</th>\n",
       "      <th>normalized_discounted_cumulative_gain_at_5</th>\n",
       "      <th>precision_at_10</th>\n",
       "      <th>precision_at_25</th>\n",
       "      <th>precision_at_5</th>\n",
       "    </tr>\n",
       "  </thead>\n",
       "  <tbody>\n",
       "    <tr>\n",
       "      <th>0</th>\n",
       "      <td>0.0200</td>\n",
       "      <td>0.0468</td>\n",
       "      <td>FirstSolution-aws-user-personalization</td>\n",
       "      <td>0.0539</td>\n",
       "      <td>0.0742</td>\n",
       "      <td>0.0446</td>\n",
       "      <td>0.0096</td>\n",
       "      <td>0.0075</td>\n",
       "      <td>0.0129</td>\n",
       "    </tr>\n",
       "    <tr>\n",
       "      <th>1</th>\n",
       "      <td>0.0025</td>\n",
       "      <td>0.0009</td>\n",
       "      <td>first-solution-aws-hrnn-metadata</td>\n",
       "      <td>0.0018</td>\n",
       "      <td>0.0024</td>\n",
       "      <td>0.0010</td>\n",
       "      <td>0.0005</td>\n",
       "      <td>0.0003</td>\n",
       "      <td>0.0005</td>\n",
       "    </tr>\n",
       "    <tr>\n",
       "      <th>2</th>\n",
       "      <td>0.0480</td>\n",
       "      <td>0.0157</td>\n",
       "      <td>first-solution-aws-hrnn</td>\n",
       "      <td>0.0186</td>\n",
       "      <td>0.0234</td>\n",
       "      <td>0.0170</td>\n",
       "      <td>0.0027</td>\n",
       "      <td>0.0019</td>\n",
       "      <td>0.0046</td>\n",
       "    </tr>\n",
       "    <tr>\n",
       "      <th>3</th>\n",
       "      <td>0.0006</td>\n",
       "      <td>0.0006</td>\n",
       "      <td>first-solution-aws-personalized-ranking</td>\n",
       "      <td>0.0000</td>\n",
       "      <td>0.0027</td>\n",
       "      <td>0.0000</td>\n",
       "      <td>0.0000</td>\n",
       "      <td>0.0005</td>\n",
       "      <td>0.0000</td>\n",
       "    </tr>\n",
       "    <tr>\n",
       "      <th>4</th>\n",
       "      <td>0.0006</td>\n",
       "      <td>0.0025</td>\n",
       "      <td>first-solution-aws-popularity-count</td>\n",
       "      <td>0.0050</td>\n",
       "      <td>0.0055</td>\n",
       "      <td>0.0043</td>\n",
       "      <td>0.0006</td>\n",
       "      <td>0.0003</td>\n",
       "      <td>0.0009</td>\n",
       "    </tr>\n",
       "    <tr>\n",
       "      <th>5</th>\n",
       "      <td>0.0358</td>\n",
       "      <td>0.0455</td>\n",
       "      <td>first-solution-aws-sims</td>\n",
       "      <td>0.0586</td>\n",
       "      <td>0.0642</td>\n",
       "      <td>0.0491</td>\n",
       "      <td>0.0083</td>\n",
       "      <td>0.0043</td>\n",
       "      <td>0.0111</td>\n",
       "    </tr>\n",
       "    <tr>\n",
       "      <th>6</th>\n",
       "      <td>0.0227</td>\n",
       "      <td>0.0524</td>\n",
       "      <td>first-solution-aws-user-personalization</td>\n",
       "      <td>0.0591</td>\n",
       "      <td>0.0795</td>\n",
       "      <td>0.0497</td>\n",
       "      <td>0.0104</td>\n",
       "      <td>0.0081</td>\n",
       "      <td>0.0142</td>\n",
       "    </tr>\n",
       "  </tbody>\n",
       "</table>\n",
       "</div>"
      ],
      "text/plain": [
       "   coverage  mean_reciprocal_rank_at_25  \\\n",
       "0    0.0200                      0.0468   \n",
       "1    0.0025                      0.0009   \n",
       "2    0.0480                      0.0157   \n",
       "3    0.0006                      0.0006   \n",
       "4    0.0006                      0.0025   \n",
       "5    0.0358                      0.0455   \n",
       "6    0.0227                      0.0524   \n",
       "\n",
       "                                      name  \\\n",
       "0   FirstSolution-aws-user-personalization   \n",
       "1         first-solution-aws-hrnn-metadata   \n",
       "2                  first-solution-aws-hrnn   \n",
       "3  first-solution-aws-personalized-ranking   \n",
       "4      first-solution-aws-popularity-count   \n",
       "5                  first-solution-aws-sims   \n",
       "6  first-solution-aws-user-personalization   \n",
       "\n",
       "   normalized_discounted_cumulative_gain_at_10  \\\n",
       "0                                       0.0539   \n",
       "1                                       0.0018   \n",
       "2                                       0.0186   \n",
       "3                                       0.0000   \n",
       "4                                       0.0050   \n",
       "5                                       0.0586   \n",
       "6                                       0.0591   \n",
       "\n",
       "   normalized_discounted_cumulative_gain_at_25  \\\n",
       "0                                       0.0742   \n",
       "1                                       0.0024   \n",
       "2                                       0.0234   \n",
       "3                                       0.0027   \n",
       "4                                       0.0055   \n",
       "5                                       0.0642   \n",
       "6                                       0.0795   \n",
       "\n",
       "   normalized_discounted_cumulative_gain_at_5  precision_at_10  \\\n",
       "0                                      0.0446           0.0096   \n",
       "1                                      0.0010           0.0005   \n",
       "2                                      0.0170           0.0027   \n",
       "3                                      0.0000           0.0000   \n",
       "4                                      0.0043           0.0006   \n",
       "5                                      0.0491           0.0083   \n",
       "6                                      0.0497           0.0104   \n",
       "\n",
       "   precision_at_25  precision_at_5  \n",
       "0           0.0075          0.0129  \n",
       "1           0.0003          0.0005  \n",
       "2           0.0019          0.0046  \n",
       "3           0.0005          0.0000  \n",
       "4           0.0003          0.0009  \n",
       "5           0.0043          0.0111  \n",
       "6           0.0081          0.0142  "
      ]
     },
     "execution_count": 35,
     "metadata": {},
     "output_type": "execute_result"
    }
   ],
   "source": [
    "# print(personalize.list_solution_versions()['solutionVersions'])\n",
    "modelPerformance = []\n",
    "for solutionVersion in personalize.list_solution_versions()['solutionVersions']:\n",
    "    solutionName = solutionVersion['solutionVersionArn'].split('/')[-2]\n",
    "    print(solutionName)\n",
    "    response = personalize.get_solution_metrics(solutionVersionArn = solutionVersion['solutionVersionArn'])\n",
    "#     print(response['metrics'])\n",
    "    mp = response['metrics']\n",
    "    mp['name'] = solutionName\n",
    "    modelPerformance.append(mp)\n",
    "    print('-' * 50)\n",
    "    \n",
    "df= pd.DataFrame(modelPerformance)\n",
    "df"
   ]
  },
  {
   "cell_type": "code",
   "execution_count": 39,
   "metadata": {},
   "outputs": [
    {
     "data": {
      "image/png": "[encoded data removed]",
      "text/plain": [
       "<Figure size 432x288 with 1 Axes>"
      ]
     },
     "metadata": {},
     "output_type": "display_data"
    },
    {
     "data": {
      "image/png": "[encoded data removed]",
      "text/plain": [
       "<Figure size 432x288 with 1 Axes>"
      ]
     },
     "metadata": {},
     "output_type": "display_data"
    }
   ],
   "source": [
    "# gca stands for 'get current axis'\n",
    "# ax = plt.gca()\n",
    "\n",
    "df.plot(kind='bar', x='name', y=['normalized_discounted_cumulative_gain_at_5','normalized_discounted_cumulative_gain_at_10', 'normalized_discounted_cumulative_gain_at_25'])\n",
    "plt.xticks(rotation=90)\n",
    "df.plot(kind='bar', x='name', y=['precision_at_10', 'precision_at_25'])\n",
    "plt.xticks(rotation=90)\n",
    "\n",
    "# df.plot()\n",
    "\n",
    "plt.show()"
   ]
  },
  {
   "cell_type": "markdown",
   "metadata": {},
   "source": [
    "# Campaign"
   ]
  },
  {
   "cell_type": "code",
   "execution_count": null,
   "metadata": {},
   "outputs": [],
   "source": [
    "response = personalize.create_campaign(\n",
    "    name = 'First-sim-Campaign',\n",
    "    solutionVersionArn = personalize.list_solution_versions()['solutionVersions'][0]['solutionVersionArn'],\n",
    "    minProvisionedTPS = 10)\n",
    "\n",
    "arn = response['campaignArn']\n",
    "\n",
    "description = personalize.describe_campaign(campaignArn = arn)['campaign']\n",
    "print('Name: ' + description['name'])\n",
    "print('ARN: ' + description['campaignArn'])\n",
    "print('Status: ' + description['status'])"
   ]
  },
  {
   "cell_type": "code",
   "execution_count": null,
   "metadata": {},
   "outputs": [],
   "source": []
  },
  {
   "cell_type": "code",
   "execution_count": null,
   "metadata": {},
   "outputs": [],
   "source": [
    "personalizeRt = boto3.client('personalize-runtime')\n",
    "\n",
    "response = personalizeRt.get_recommendations(\n",
    "    campaignArn = 'arn:aws:personalize:us-east-1::campaign/FirstCampaign',\n",
    "    userId = '87557')\n",
    "\n",
    "print(\"Recommended items\")\n",
    "for item in response['itemList']:\n",
    "    print (item['itemId'])"
   ]
  },
  {
   "cell_type": "code",
   "execution_count": null,
   "metadata": {},
   "outputs": [],
   "source": [
    "response = personalizeRt.get_recommendations(\n",
    "    campaignArn = 'arn:aws:personalize:us-east-1::campaign/FirstCampaign',\n",
    "    userId = '25746839',\n",
    "    context = {\n",
    "      'CLIP_CATEGORY': 'cartoons'\n",
    "    }\n",
    ")\n",
    "\n",
    "# print(\"Recommended items\", response['itemList'])\n",
    "# for item in response['itemList']:\n",
    "#     print (item['itemId'])\n",
    "    \n",
    "# print(list(map(lambda x : x['itemId'], response['itemList'])))\n",
    "# response['itemList']\n",
    "print(df_user.loc[ df_user['USER_ID'] == 25746839 ])\n",
    "df_result = df_item[df_item['ITEM_ID'].isin(list(map(lambda x : x['itemId'], response['itemList'])))]\n",
    "\n",
    "df_result.head(10)"
   ]
  },
  {
   "cell_type": "code",
   "execution_count": null,
   "metadata": {},
   "outputs": [],
   "source": [
    "# 72953299\n",
    "response = personalizeRt.get_recommendations(\n",
    "    campaignArn = 'arn:aws:personalize:us-east-1::campaign/First-sim-Campaign',\n",
    "    itemId = '72953299',\n",
    "#     context = {\n",
    "#       'CLIP_CATEGORY': 'cartoons'\n",
    "#     }\n",
    ")\n",
    "\n",
    "# print(\"Recommended items\", response['itemList'])\n",
    "# for item in response['itemList']:\n",
    "#     print (item['itemId'])\n",
    "    \n",
    "# print(list(map(lambda x : x['itemId'], response['itemList'])))\n",
    "# response['itemList']\n",
    "print(df_item.loc[ df_item['ITEM_ID'] == 72953299 ])\n",
    "df_result = df_item[df_item['ITEM_ID'].isin(list(map(lambda x : x['itemId'], response['itemList'])))]\n",
    "\n",
    "df_result.head(10)"
   ]
  },
  {
   "cell_type": "code",
   "execution_count": null,
   "metadata": {},
   "outputs": [],
   "source": []
  }
 ],
 "metadata": {
  "kernelspec": {
   "display_name": "Python 3",
   "language": "python",
   "name": "python3"
  },
  "language_info": {
   "codemirror_mode": {
    "name": "ipython",
    "version": 3
   },
   "file_extension": ".py",
   "mimetype": "text/x-python",
   "name": "python",
   "nbconvert_exporter": "python",
   "pygments_lexer": "ipython3",
   "version": "3.6.6"
  }
 },
 "nbformat": 4,
 "nbformat_minor": 4
}
